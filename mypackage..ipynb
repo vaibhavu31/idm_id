{
 "cells": [
  {
   "cell_type": "code",
   "execution_count": 1,
   "metadata": {},
   "outputs": [
    {
     "name": "stdout",
     "output_type": "stream",
     "text": [
      "Collecting git+https://github.com/vaibhavu31/ky83kyje.git\n",
      "  Cloning https://github.com/vaibhavu31/ky83kyje.git to c:\\users\\vaibhav\\appdata\\local\\temp\\pip-req-build-q52z_g6s\n",
      "Requirement already satisfied (use --upgrade to upgrade): ky83kyje==0.1 from git+https://github.com/vaibhavu31/ky83kyje.git in c:\\users\\vaibhav\\anaconda3\\lib\\site-packages\n",
      "Requirement already satisfied: numpy in c:\\users\\vaibhav\\anaconda3\\lib\\site-packages (from ky83kyje==0.1) (1.16.2)\n",
      "Requirement already satisfied: Pillow in c:\\users\\vaibhav\\anaconda3\\lib\\site-packages (from ky83kyje==0.1) (8.0.1)\n",
      "Requirement already satisfied: ipywidgets in c:\\users\\vaibhav\\anaconda3\\lib\\site-packages (from ky83kyje==0.1) (7.5.1)\n",
      "Requirement already satisfied: nbformat>=4.2.0 in c:\\users\\vaibhav\\anaconda3\\lib\\site-packages (from ipywidgets->ky83kyje==0.1) (5.0.8)\n",
      "Requirement already satisfied: traitlets>=4.3.1 in c:\\users\\vaibhav\\anaconda3\\lib\\site-packages (from ipywidgets->ky83kyje==0.1) (5.0.5)\n",
      "Requirement already satisfied: ipykernel>=4.5.1 in c:\\users\\vaibhav\\anaconda3\\lib\\site-packages (from ipywidgets->ky83kyje==0.1) (5.3.4)\n",
      "Requirement already satisfied: ipython>=4.0.0; python_version >= \"3.3\" in c:\\users\\vaibhav\\anaconda3\\lib\\site-packages (from ipywidgets->ky83kyje==0.1) (7.19.0)\n",
      "Requirement already satisfied: widgetsnbextension~=3.5.0 in c:\\users\\vaibhav\\anaconda3\\lib\\site-packages (from ipywidgets->ky83kyje==0.1) (3.5.1)\n",
      "Requirement already satisfied: jupyter-core in c:\\users\\vaibhav\\anaconda3\\lib\\site-packages (from nbformat>=4.2.0->ipywidgets->ky83kyje==0.1) (4.7.0)\n",
      "Requirement already satisfied: jsonschema!=2.5.0,>=2.4 in c:\\users\\vaibhav\\anaconda3\\lib\\site-packages (from nbformat>=4.2.0->ipywidgets->ky83kyje==0.1) (3.2.0)\n",
      "Requirement already satisfied: ipython-genutils in c:\\users\\vaibhav\\anaconda3\\lib\\site-packages (from nbformat>=4.2.0->ipywidgets->ky83kyje==0.1) (0.2.0)\n",
      "Requirement already satisfied: tornado>=4.2 in c:\\users\\vaibhav\\anaconda3\\lib\\site-packages (from ipykernel>=4.5.1->ipywidgets->ky83kyje==0.1) (6.0.4)\n",
      "Requirement already satisfied: jupyter-client in c:\\users\\vaibhav\\anaconda3\\lib\\site-packages (from ipykernel>=4.5.1->ipywidgets->ky83kyje==0.1) (6.1.7)\n",
      "Requirement already satisfied: prompt-toolkit!=3.0.0,!=3.0.1,<3.1.0,>=2.0.0 in c:\\users\\vaibhav\\anaconda3\\lib\\site-packages (from ipython>=4.0.0; python_version >= \"3.3\"->ipywidgets->ky83kyje==0.1) (3.0.8)\n",
      "Requirement already satisfied: pygments in c:\\users\\vaibhav\\anaconda3\\lib\\site-packages (from ipython>=4.0.0; python_version >= \"3.3\"->ipywidgets->ky83kyje==0.1) (2.7.2)\n",
      "Requirement already satisfied: jedi>=0.10 in c:\\users\\vaibhav\\anaconda3\\lib\\site-packages (from ipython>=4.0.0; python_version >= \"3.3\"->ipywidgets->ky83kyje==0.1) (0.17.1)\n",
      "Requirement already satisfied: colorama; sys_platform == \"win32\" in c:\\users\\vaibhav\\anaconda3\\lib\\site-packages (from ipython>=4.0.0; python_version >= \"3.3\"->ipywidgets->ky83kyje==0.1) (0.4.4)\n",
      "Requirement already satisfied: setuptools>=18.5 in c:\\users\\vaibhav\\anaconda3\\lib\\site-packages (from ipython>=4.0.0; python_version >= \"3.3\"->ipywidgets->ky83kyje==0.1) (50.3.2)\n",
      "Requirement already satisfied: pickleshare in c:\\users\\vaibhav\\anaconda3\\lib\\site-packages (from ipython>=4.0.0; python_version >= \"3.3\"->ipywidgets->ky83kyje==0.1) (0.7.5)\n",
      "Requirement already satisfied: decorator in c:\\users\\vaibhav\\anaconda3\\lib\\site-packages (from ipython>=4.0.0; python_version >= \"3.3\"->ipywidgets->ky83kyje==0.1) (4.4.2)\n",
      "Requirement already satisfied: backcall in c:\\users\\vaibhav\\anaconda3\\lib\\site-packages (from ipython>=4.0.0; python_version >= \"3.3\"->ipywidgets->ky83kyje==0.1) (0.2.0)\n",
      "Requirement already satisfied: notebook>=4.4.1 in c:\\users\\vaibhav\\anaconda3\\lib\\site-packages (from widgetsnbextension~=3.5.0->ipywidgets->ky83kyje==0.1) (6.1.4)\n",
      "Requirement already satisfied: pywin32>=1.0; sys_platform == \"win32\" in c:\\users\\vaibhav\\anaconda3\\lib\\site-packages (from jupyter-core->nbformat>=4.2.0->ipywidgets->ky83kyje==0.1) (227)\n",
      "Requirement already satisfied: importlib-metadata; python_version < \"3.8\" in c:\\users\\vaibhav\\anaconda3\\lib\\site-packages (from jsonschema!=2.5.0,>=2.4->nbformat>=4.2.0->ipywidgets->ky83kyje==0.1) (2.0.0)\n",
      "Requirement already satisfied: pyrsistent>=0.14.0 in c:\\users\\vaibhav\\anaconda3\\lib\\site-packages (from jsonschema!=2.5.0,>=2.4->nbformat>=4.2.0->ipywidgets->ky83kyje==0.1) (0.17.3)\n",
      "Requirement already satisfied: six>=1.11.0 in c:\\users\\vaibhav\\anaconda3\\lib\\site-packages (from jsonschema!=2.5.0,>=2.4->nbformat>=4.2.0->ipywidgets->ky83kyje==0.1) (1.15.0)\n",
      "Requirement already satisfied: attrs>=17.4.0 in c:\\users\\vaibhav\\anaconda3\\lib\\site-packages (from jsonschema!=2.5.0,>=2.4->nbformat>=4.2.0->ipywidgets->ky83kyje==0.1) (20.3.0)\n",
      "Requirement already satisfied: pyzmq>=13 in c:\\users\\vaibhav\\anaconda3\\lib\\site-packages (from jupyter-client->ipykernel>=4.5.1->ipywidgets->ky83kyje==0.1) (19.0.2)\n",
      "Requirement already satisfied: python-dateutil>=2.1 in c:\\users\\vaibhav\\anaconda3\\lib\\site-packages (from jupyter-client->ipykernel>=4.5.1->ipywidgets->ky83kyje==0.1) (2.8.1)\n",
      "Requirement already satisfied: wcwidth in c:\\users\\vaibhav\\anaconda3\\lib\\site-packages (from prompt-toolkit!=3.0.0,!=3.0.1,<3.1.0,>=2.0.0->ipython>=4.0.0; python_version >= \"3.3\"->ipywidgets->ky83kyje==0.1) (0.2.5)\n",
      "Requirement already satisfied: parso<0.8.0,>=0.7.0 in c:\\users\\vaibhav\\anaconda3\\lib\\site-packages (from jedi>=0.10->ipython>=4.0.0; python_version >= \"3.3\"->ipywidgets->ky83kyje==0.1) (0.7.0)\n",
      "Requirement already satisfied: argon2-cffi in c:\\users\\vaibhav\\anaconda3\\lib\\site-packages (from notebook>=4.4.1->widgetsnbextension~=3.5.0->ipywidgets->ky83kyje==0.1) (20.1.0)\n",
      "Requirement already satisfied: nbconvert in c:\\users\\vaibhav\\anaconda3\\lib\\site-packages (from notebook>=4.4.1->widgetsnbextension~=3.5.0->ipywidgets->ky83kyje==0.1) (6.0.7)\n",
      "Requirement already satisfied: prometheus-client in c:\\users\\vaibhav\\anaconda3\\lib\\site-packages (from notebook>=4.4.1->widgetsnbextension~=3.5.0->ipywidgets->ky83kyje==0.1) (0.8.0)\n",
      "Requirement already satisfied: Send2Trash in c:\\users\\vaibhav\\anaconda3\\lib\\site-packages (from notebook>=4.4.1->widgetsnbextension~=3.5.0->ipywidgets->ky83kyje==0.1) (1.5.0)\n",
      "Requirement already satisfied: terminado>=0.8.3 in c:\\users\\vaibhav\\anaconda3\\lib\\site-packages (from notebook>=4.4.1->widgetsnbextension~=3.5.0->ipywidgets->ky83kyje==0.1) (0.9.1)\n",
      "Requirement already satisfied: jinja2 in c:\\users\\vaibhav\\anaconda3\\lib\\site-packages (from notebook>=4.4.1->widgetsnbextension~=3.5.0->ipywidgets->ky83kyje==0.1) (2.11.2)\n",
      "Requirement already satisfied: zipp>=0.5 in c:\\users\\vaibhav\\anaconda3\\lib\\site-packages (from importlib-metadata; python_version < \"3.8\"->jsonschema!=2.5.0,>=2.4->nbformat>=4.2.0->ipywidgets->ky83kyje==0.1) (3.4.0)\n",
      "Requirement already satisfied: cffi>=1.0.0 in c:\\users\\vaibhav\\anaconda3\\lib\\site-packages (from argon2-cffi->notebook>=4.4.1->widgetsnbextension~=3.5.0->ipywidgets->ky83kyje==0.1) (1.14.3)\n",
      "Requirement already satisfied: mistune<2,>=0.8.1 in c:\\users\\vaibhav\\anaconda3\\lib\\site-packages (from nbconvert->notebook>=4.4.1->widgetsnbextension~=3.5.0->ipywidgets->ky83kyje==0.1) (0.8.4)\n",
      "Requirement already satisfied: testpath in c:\\users\\vaibhav\\anaconda3\\lib\\site-packages (from nbconvert->notebook>=4.4.1->widgetsnbextension~=3.5.0->ipywidgets->ky83kyje==0.1) (0.4.4)\n",
      "Requirement already satisfied: bleach in c:\\users\\vaibhav\\anaconda3\\lib\\site-packages (from nbconvert->notebook>=4.4.1->widgetsnbextension~=3.5.0->ipywidgets->ky83kyje==0.1) (3.2.1)\n",
      "Requirement already satisfied: pandocfilters>=1.4.1 in c:\\users\\vaibhav\\anaconda3\\lib\\site-packages (from nbconvert->notebook>=4.4.1->widgetsnbextension~=3.5.0->ipywidgets->ky83kyje==0.1) (1.4.3)\n",
      "Requirement already satisfied: defusedxml in c:\\users\\vaibhav\\anaconda3\\lib\\site-packages (from nbconvert->notebook>=4.4.1->widgetsnbextension~=3.5.0->ipywidgets->ky83kyje==0.1) (0.6.0)\n",
      "Requirement already satisfied: nbclient<0.6.0,>=0.5.0 in c:\\users\\vaibhav\\anaconda3\\lib\\site-packages (from nbconvert->notebook>=4.4.1->widgetsnbextension~=3.5.0->ipywidgets->ky83kyje==0.1) (0.5.1)\n",
      "Requirement already satisfied: entrypoints>=0.2.2 in c:\\users\\vaibhav\\anaconda3\\lib\\site-packages (from nbconvert->notebook>=4.4.1->widgetsnbextension~=3.5.0->ipywidgets->ky83kyje==0.1) (0.3)\n",
      "Requirement already satisfied: jupyterlab-pygments in c:\\users\\vaibhav\\anaconda3\\lib\\site-packages (from nbconvert->notebook>=4.4.1->widgetsnbextension~=3.5.0->ipywidgets->ky83kyje==0.1) (0.1.2)\n",
      "Requirement already satisfied: pywinpty>=0.5 in c:\\users\\vaibhav\\anaconda3\\lib\\site-packages (from terminado>=0.8.3->notebook>=4.4.1->widgetsnbextension~=3.5.0->ipywidgets->ky83kyje==0.1) (0.5.7)\n",
      "Requirement already satisfied: MarkupSafe>=0.23 in c:\\users\\vaibhav\\anaconda3\\lib\\site-packages (from jinja2->notebook>=4.4.1->widgetsnbextension~=3.5.0->ipywidgets->ky83kyje==0.1) (1.1.1)\n",
      "Requirement already satisfied: pycparser in c:\\users\\vaibhav\\anaconda3\\lib\\site-packages (from cffi>=1.0.0->argon2-cffi->notebook>=4.4.1->widgetsnbextension~=3.5.0->ipywidgets->ky83kyje==0.1) (2.20)\n",
      "Requirement already satisfied: packaging in c:\\users\\vaibhav\\anaconda3\\lib\\site-packages (from bleach->nbconvert->notebook>=4.4.1->widgetsnbextension~=3.5.0->ipywidgets->ky83kyje==0.1) (20.4)\n",
      "Requirement already satisfied: webencodings in c:\\users\\vaibhav\\anaconda3\\lib\\site-packages (from bleach->nbconvert->notebook>=4.4.1->widgetsnbextension~=3.5.0->ipywidgets->ky83kyje==0.1) (0.5.1)\n",
      "Requirement already satisfied: async-generator in c:\\users\\vaibhav\\anaconda3\\lib\\site-packages (from nbclient<0.6.0,>=0.5.0->nbconvert->notebook>=4.4.1->widgetsnbextension~=3.5.0->ipywidgets->ky83kyje==0.1) (1.10)\n",
      "Requirement already satisfied: nest-asyncio in c:\\users\\vaibhav\\anaconda3\\lib\\site-packages (from nbclient<0.6.0,>=0.5.0->nbconvert->notebook>=4.4.1->widgetsnbextension~=3.5.0->ipywidgets->ky83kyje==0.1) (1.4.2)\n",
      "Requirement already satisfied: pyparsing>=2.0.2 in c:\\users\\vaibhav\\anaconda3\\lib\\site-packages (from packaging->bleach->nbconvert->notebook>=4.4.1->widgetsnbextension~=3.5.0->ipywidgets->ky83kyje==0.1) (2.4.7)\n",
      "Building wheels for collected packages: ky83kyje\n",
      "  Building wheel for ky83kyje (setup.py): started\n",
      "  Building wheel for ky83kyje (setup.py): finished with status 'done'\n",
      "  Created wheel for ky83kyje: filename=ky83kyje-0.1-py3-none-any.whl size=1544 sha256=7fd4f49f8aff2b9895010cc2c4fab0480758d952e87366c2e9c1f330b399648f\n",
      "  Stored in directory: C:\\Users\\Vaibhav\\AppData\\Local\\Temp\\pip-ephem-wheel-cache-ljphj6on\\wheels\\8f\\40\\4b\\61f519167afde77d7812cf6221ef5067c41c639a75bb188a59\n",
      "Successfully built ky83kyje\n"
     ]
    }
   ],
   "source": [
    "! pip install git+https://github.com/vaibhavu31/ky83kyje.git"
   ]
  },
  {
   "cell_type": "code",
   "execution_count": 5,
   "metadata": {},
   "outputs": [],
   "source": [
    "from ky83kyje import function\n",
    "import imageio as io"
   ]
  },
  {
   "cell_type": "code",
   "execution_count": 6,
   "metadata": {},
   "outputs": [],
   "source": [
    "img_imageio = io.imread('https://www.fau.de/files/2019/07/Kollegienhaus_Malter_3-480x284.jpg')"
   ]
  },
  {
   "cell_type": "code",
   "execution_count": 7,
   "metadata": {},
   "outputs": [],
   "source": [
    "function.imshow(img_imageio, resize=(256,300))"
   ]
  },
  {
   "cell_type": "code",
   "execution_count": null,
   "metadata": {},
   "outputs": [],
   "source": []
  }
 ],
 "metadata": {
  "kernelspec": {
   "display_name": "myvenv",
   "language": "python",
   "name": "myvenv"
  },
  "language_info": {
   "codemirror_mode": {
    "name": "ipython",
    "version": 3
   },
   "file_extension": ".py",
   "mimetype": "text/x-python",
   "name": "python",
   "nbconvert_exporter": "python",
   "pygments_lexer": "ipython3",
   "version": "3.7.9"
  }
 },
 "nbformat": 4,
 "nbformat_minor": 4
}
